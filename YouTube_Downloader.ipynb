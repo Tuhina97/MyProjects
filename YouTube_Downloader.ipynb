{
  "nbformat": 4,
  "nbformat_minor": 0,
  "metadata": {
    "colab": {
      "name": "YouTube Downloader.ipynb",
      "provenance": [],
      "collapsed_sections": []
    },
    "kernelspec": {
      "name": "python3",
      "display_name": "Python 3"
    }
  },
  "cells": [
    {
      "cell_type": "code",
      "metadata": {
        "colab": {
          "base_uri": "https://localhost:8080/"
        },
        "id": "n-uv5pwyiSM0",
        "outputId": "3d071490-5e18-407d-abb0-389673707ac7"
      },
      "source": [
        "! pip install pytube3"
      ],
      "execution_count": 1,
      "outputs": [
        {
          "output_type": "stream",
          "text": [
            "Collecting pytube3\n",
            "  Downloading https://files.pythonhosted.org/packages/de/86/198092763646eac7abd2063192ab44ea44ad8fd6d6f3ad8586b38afcd52a/pytube3-9.6.4-py3-none-any.whl\n",
            "Requirement already satisfied: typing-extensions in /usr/local/lib/python3.7/dist-packages (from pytube3) (3.7.4.3)\n",
            "Installing collected packages: pytube3\n",
            "Successfully installed pytube3-9.6.4\n"
          ],
          "name": "stdout"
        }
      ]
    },
    {
      "cell_type": "code",
      "metadata": {
        "colab": {
          "base_uri": "https://localhost:8080/"
        },
        "id": "ki6-BH4FDOIg",
        "outputId": "4c7eac80-dffc-4e39-e1ca-4d37b2ea1892"
      },
      "source": [
        "! pip install git+https://github.com/pytube/pytube"
      ],
      "execution_count": 2,
      "outputs": [
        {
          "output_type": "stream",
          "text": [
            "Collecting git+https://github.com/pytube/pytube\n",
            "  Cloning https://github.com/pytube/pytube to /tmp/pip-req-build-zaxzaypg\n",
            "  Running command git clone -q https://github.com/pytube/pytube /tmp/pip-req-build-zaxzaypg\n",
            "Requirement already satisfied: typing_extensions in /usr/local/lib/python3.7/dist-packages (from pytube==10.5.1) (3.7.4.3)\n",
            "Building wheels for collected packages: pytube\n",
            "  Building wheel for pytube (setup.py) ... \u001b[?25l\u001b[?25hdone\n",
            "  Created wheel for pytube: filename=pytube-10.5.1-cp37-none-any.whl size=41778 sha256=4482150fdf38f1b198c867d6b5761487644049a7f5f9425af3275fdf04cfcb46\n",
            "  Stored in directory: /tmp/pip-ephem-wheel-cache-2ehgfxfb/wheels/34/e9/71/12f7c6e92a0a5268282057371c9caa69c07dafc0ccb917099d\n",
            "Successfully built pytube\n",
            "Installing collected packages: pytube\n",
            "Successfully installed pytube-10.5.1\n"
          ],
          "name": "stdout"
        }
      ]
    },
    {
      "cell_type": "code",
      "metadata": {
        "id": "8p-KqvQkioi6"
      },
      "source": [
        "from pytube import YouTube"
      ],
      "execution_count": 3,
      "outputs": []
    },
    {
      "cell_type": "code",
      "metadata": {
        "id": "lQAu9x-kikd3",
        "colab": {
          "base_uri": "https://localhost:8080/",
          "height": 35
        },
        "outputId": "5ff3366e-d89e-4eef-9e4a-45602f7aa1a1"
      },
      "source": [
        "YouTube(\"https://www.youtube.com/watch?v=PlblwP2oa-0\").streams.first().download()"
      ],
      "execution_count": 4,
      "outputs": [
        {
          "output_type": "execute_result",
          "data": {
            "application/vnd.google.colaboratory.intrinsic+json": {
              "type": "string"
            },
            "text/plain": [
              "'/content/Everest - A Time Lapse Film.mp4'"
            ]
          },
          "metadata": {
            "tags": []
          },
          "execution_count": 4
        }
      ]
    },
    {
      "cell_type": "code",
      "metadata": {
        "id": "9vrYxTHsmXUn"
      },
      "source": [
        "url = \"https://www.youtube.com/watch?v=PlblwP2oa-0\""
      ],
      "execution_count": 5,
      "outputs": []
    },
    {
      "cell_type": "code",
      "metadata": {
        "id": "yFrRr9maopFo"
      },
      "source": [
        "yt = YouTube(url)"
      ],
      "execution_count": 6,
      "outputs": []
    },
    {
      "cell_type": "code",
      "metadata": {
        "id": "F4XCokKBEcMA",
        "colab": {
          "base_uri": "https://localhost:8080/",
          "height": 35
        },
        "outputId": "a3bde4b1-5fd8-4796-ac94-4ac9c5339d07"
      },
      "source": [
        "yt.streams.first().download()"
      ],
      "execution_count": 7,
      "outputs": [
        {
          "output_type": "execute_result",
          "data": {
            "application/vnd.google.colaboratory.intrinsic+json": {
              "type": "string"
            },
            "text/plain": [
              "'/content/Everest - A Time Lapse Film.mp4'"
            ]
          },
          "metadata": {
            "tags": []
          },
          "execution_count": 7
        }
      ]
    }
  ]
}